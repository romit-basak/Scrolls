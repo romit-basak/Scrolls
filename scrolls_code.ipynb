import numpy as np
import pandas as pd
books=pd.read_csv('C:\\Users\\adnan\\Downloads\\BX-CSV-Dump\\BX-Books.csv', sep=";", error_bad_lines=False, encoding='latin-1') 
books=books[['ISBN', 'Book-Title', 'Book-Author', 'Year-Of-Publication', 'Publisher']] 
books.rename(columns={'Book-Title':'title','Book-Author':'author','Year-Of-Publication':'year','Publisher':'publisher'},inplace=True) 
books.head(2)
users=pd.read_csv('C:\\Users\\adnan\\Downloads\\BX-CSV-Dump\\BX-Users.csv', sep=";", error_bad_lines=False, encoding='latin-1') 
users.rename(columns={'User-ID':'user_id', 'Location':'location','Age':'age'},inplace=True) 
users.head(2)
ratings=pd.read_csv('C:\\Users\\adnan\\Downloads\\BX-CSV-Dump\\BX-Book-Ratings.csv', sep=";", error_bad_lines=False, encoding='latin-1')
ratings.rename(columns={'User-ID':'user_id', 'Book-Rating':'rating'},inplace=True)
ratings.head(2)
ratings_with_books=ratings.merge(books, on='ISBN')
ratings_with_books.shape
number_rating=ratings_with_books.groupby('title')['rating'].count().reset_index()
number_rating.rename(columns={'rating':'number of ratings'}, inplace=True)
final_rating=ratings_with_books.merge(number_rating, on='title')
final_rating.shape
final_rating=final_rating[final_rating['number of ratings']>=50]
final_rating.shape
final_rating.drop_duplicates(['user_id','title'], inplace=True)
final_rating.shape
book_pivot=final_rating.pivot_table(columns='user_id', index='title', values='rating')
book_pivot.fillna(0, inplace=True)
book_pivot
