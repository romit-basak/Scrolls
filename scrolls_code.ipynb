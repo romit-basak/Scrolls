import numpy as np
import pandas as pd
books=pd.read_csv('C:\\Users\\adnan\\Downloads\\BX-CSV-Dump\\BX-Books.csv', sep=";", error_bad_lines=False, encoding='latin-1') 
books=books[['ISBN', 'Book-Title', 'Book-Author', 'Year-Of-Publication', 'Publisher']] 
books.rename(columns={'Book-Title':'title','Book-Author':'author','Year-Of-Publication':'year','Publisher':'publisher'},inplace=True) 
books.head(2)
users=pd.read_csv('C:\\Users\\adnan\\Downloads\\BX-CSV-Dump\\BX-Users.csv', sep=";", error_bad_lines=False, encoding='latin-1') 
users.rename(columns={'User-ID':'user_id', 'Location':'location','Age':'age'},inplace=True) 
users.head(2)
ratings=pd.read_csv('C:\\Users\\adnan\\Downloads\\BX-CSV-Dump\\BX-Book-Ratings.csv', sep=";", error_bad_lines=False, encoding='latin-1')
ratings.rename(columns={'User-ID':'user_id', 'Book-Rating':'rating'},inplace=True)
ratings.head(2)
from scipy.sparse import csr_matrix
book_sparse=csr_matrix(book_pivot)
type(book_sparse)
from sklearn.neighbors import NearestNeighbors
model=NearestNeighbors(algorithm='brute')
model.fit(book_sparse)
distances, suggestions=model.kneighbors(book_pivot.iloc[393, :].values.reshape(1,-1), n_neighbors=6)
suggestions
for i in range(len(suggestions)):
    print(book_pivot.index[suggestions[i]])
book_pivot.index[54]
np.where(book_pivot.index=='Animal Farm')[0][0]
def recommend_book(book_name):
    book_id=np.where(book_pivot.index==book_name)[0][0]
    distances, suggestions=model.kneighbors(book_pivot.iloc[book_id, :].values.reshape(1,-1), n_neighbors=6)
    print("The suggestions for ", book_name, " are:")
    for i in range(len(suggestions)):
            print(book_pivot.index[suggestions[i]])
recommend_book('Animal Farm')
